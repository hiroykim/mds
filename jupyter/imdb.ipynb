{
 "cells": [
  {
   "cell_type": "code",
   "execution_count": 2,
   "metadata": {},
   "outputs": [
    {
     "name": "stdout",
     "output_type": "stream",
     "text": [
      "2.4.1\n"
     ]
    }
   ],
   "source": [
    "import tensorflow as tf\n",
    "from tensorflow import keras\n",
    "\n",
    "import numpy as np\n",
    "\n",
    "print(tf.__version__)"
   ]
  },
  {
   "cell_type": "code",
   "execution_count": 3,
   "metadata": {},
   "outputs": [
    {
     "name": "stderr",
     "output_type": "stream",
     "text": [
      "<string>:6: VisibleDeprecationWarning: Creating an ndarray from ragged nested sequences (which is a list-or-tuple of lists-or-tuples-or ndarrays with different lengths or shapes) is deprecated. If you meant to do this, you must specify 'dtype=object' when creating the ndarray\n",
      "c:\\users\\overthinking\\appdata\\local\\programs\\python\\python36\\lib\\site-packages\\tensorflow\\python\\keras\\datasets\\imdb.py:159: VisibleDeprecationWarning: Creating an ndarray from ragged nested sequences (which is a list-or-tuple of lists-or-tuples-or ndarrays with different lengths or shapes) is deprecated. If you meant to do this, you must specify 'dtype=object' when creating the ndarray\n",
      "  x_train, y_train = np.array(xs[:idx]), np.array(labels[:idx])\n",
      "c:\\users\\overthinking\\appdata\\local\\programs\\python\\python36\\lib\\site-packages\\tensorflow\\python\\keras\\datasets\\imdb.py:160: VisibleDeprecationWarning: Creating an ndarray from ragged nested sequences (which is a list-or-tuple of lists-or-tuples-or ndarrays with different lengths or shapes) is deprecated. If you meant to do this, you must specify 'dtype=object' when creating the ndarray\n",
      "  x_test, y_test = np.array(xs[idx:]), np.array(labels[idx:])\n"
     ]
    }
   ],
   "source": [
    "imdb = keras.datasets.imdb\n",
    "\n",
    "(train_data, train_labels), (test_data, test_labels) = imdb.load_data(num_words=10000)"
   ]
  },
  {
   "cell_type": "code",
   "execution_count": 4,
   "metadata": {},
   "outputs": [
    {
     "name": "stdout",
     "output_type": "stream",
     "text": [
      "훈련 샘플: 25000, 레이블: 25000\n"
     ]
    }
   ],
   "source": [
    "print(\"훈련 샘플: {}, 레이블: {}\".format(len(train_data), len(train_labels)))"
   ]
  },
  {
   "cell_type": "code",
   "execution_count": 5,
   "metadata": {},
   "outputs": [
    {
     "name": "stdout",
     "output_type": "stream",
     "text": [
      "[1, 14, 22, 16, 43, 530, 973, 1622, 1385, 65, 458, 4468, 66, 3941, 4, 173, 36, 256, 5, 25, 100, 43, 838, 112, 50, 670, 2, 9, 35, 480, 284, 5, 150, 4, 172, 112, 167, 2, 336, 385, 39, 4, 172, 4536, 1111, 17, 546, 38, 13, 447, 4, 192, 50, 16, 6, 147, 2025, 19, 14, 22, 4, 1920, 4613, 469, 4, 22, 71, 87, 12, 16, 43, 530, 38, 76, 15, 13, 1247, 4, 22, 17, 515, 17, 12, 16, 626, 18, 2, 5, 62, 386, 12, 8, 316, 8, 106, 5, 4, 2223, 5244, 16, 480, 66, 3785, 33, 4, 130, 12, 16, 38, 619, 5, 25, 124, 51, 36, 135, 48, 25, 1415, 33, 6, 22, 12, 215, 28, 77, 52, 5, 14, 407, 16, 82, 2, 8, 4, 107, 117, 5952, 15, 256, 4, 2, 7, 3766, 5, 723, 36, 71, 43, 530, 476, 26, 400, 317, 46, 7, 4, 2, 1029, 13, 104, 88, 4, 381, 15, 297, 98, 32, 2071, 56, 26, 141, 6, 194, 7486, 18, 4, 226, 22, 21, 134, 476, 26, 480, 5, 144, 30, 5535, 18, 51, 36, 28, 224, 92, 25, 104, 4, 226, 65, 16, 38, 1334, 88, 12, 16, 283, 5, 16, 4472, 113, 103, 32, 15, 16, 5345, 19, 178, 32]\n"
     ]
    }
   ],
   "source": [
    "print(train_data[0])"
   ]
  },
  {
   "cell_type": "code",
   "execution_count": 6,
   "metadata": {},
   "outputs": [
    {
     "data": {
      "text/plain": [
       "(218, 189)"
      ]
     },
     "execution_count": 6,
     "metadata": {},
     "output_type": "execute_result"
    }
   ],
   "source": [
    "len(train_data[0]), len(train_data[1])"
   ]
  },
  {
   "cell_type": "code",
   "execution_count": 10,
   "metadata": {},
   "outputs": [],
   "source": [
    "import pickle\n",
    "\n",
    "def save_pickle(obj):\n",
    "    fp = open(\"imdb_dict.dat\", \"wb\")\n",
    "    pickle.dump(obj, fp)\n",
    "    fp.close()\n",
    "    "
   ]
  },
  {
   "cell_type": "code",
   "execution_count": 11,
   "metadata": {},
   "outputs": [],
   "source": [
    "# 단어와 정수 인덱스를 매핑한 딕셔너리\n",
    "word_index = imdb.get_word_index()\n",
    "\n",
    "save_pickle(word_index)\n",
    "\n",
    "# 처음 몇 개 인덱스는 사전에 정의되어 있습니다\n",
    "word_index = {k:(v+3) for k,v in word_index.items()}\n",
    "word_index[\"<PAD>\"] = 0\n",
    "word_index[\"<START>\"] = 1\n",
    "word_index[\"<UNK>\"] = 2  # unknown\n",
    "word_index[\"<UNUSED>\"] = 3\n",
    "\n",
    "reverse_word_index = dict([(value, key) for (key, value) in word_index.items()])\n",
    "\n",
    "def decode_review(text):\n",
    "    return ' '.join([reverse_word_index.get(i, '?') for i in text])"
   ]
  },
  {
   "cell_type": "code",
   "execution_count": 13,
   "metadata": {},
   "outputs": [
    {
     "data": {
      "text/plain": [
       "\"<START> this film was just brilliant casting location scenery story direction everyone's really suited the part they played and you could just imagine being there robert <UNK> is an amazing actor and now the same being director <UNK> father came from the same scottish island as myself so i loved the fact there was a real connection with this film the witty remarks throughout the film were great it was just brilliant so much that i bought the film as soon as it was released for <UNK> and would recommend it to everyone to watch and the fly fishing was amazing really cried at the end it was so sad and you know what they say if you cry at a film it must have been good and this definitely was also <UNK> to the two little boy's that played the <UNK> of norman and paul they were just brilliant children are often left out of the <UNK> list i think because the stars that play them all grown up are such a big profile for the whole film but these children are amazing and should be praised for what they have done don't you think the whole story was so lovely because it was true and was someone's life after all that was shared with us all\""
      ]
     },
     "execution_count": 13,
     "metadata": {},
     "output_type": "execute_result"
    }
   ],
   "source": [
    "decode_review(train_data[0])"
   ]
  },
  {
   "cell_type": "code",
   "execution_count": 14,
   "metadata": {},
   "outputs": [],
   "source": [
    "train_data = keras.preprocessing.sequence.pad_sequences(train_data,\n",
    "                                                        value=word_index[\"<PAD>\"],\n",
    "                                                        padding='post',\n",
    "                                                        maxlen=256)\n",
    "\n",
    "test_data = keras.preprocessing.sequence.pad_sequences(test_data,\n",
    "                                                       value=word_index[\"<PAD>\"],\n",
    "                                                       padding='post',\n",
    "                                                       maxlen=256)"
   ]
  },
  {
   "cell_type": "code",
   "execution_count": 15,
   "metadata": {},
   "outputs": [
    {
     "data": {
      "text/plain": [
       "(256, 256)"
      ]
     },
     "execution_count": 15,
     "metadata": {},
     "output_type": "execute_result"
    }
   ],
   "source": [
    "len(train_data[0]), len(train_data[1])"
   ]
  },
  {
   "cell_type": "code",
   "execution_count": 16,
   "metadata": {},
   "outputs": [
    {
     "name": "stdout",
     "output_type": "stream",
     "text": [
      "[   1   14   22   16   43  530  973 1622 1385   65  458 4468   66 3941\n",
      "    4  173   36  256    5   25  100   43  838  112   50  670    2    9\n",
      "   35  480  284    5  150    4  172  112  167    2  336  385   39    4\n",
      "  172 4536 1111   17  546   38   13  447    4  192   50   16    6  147\n",
      " 2025   19   14   22    4 1920 4613  469    4   22   71   87   12   16\n",
      "   43  530   38   76   15   13 1247    4   22   17  515   17   12   16\n",
      "  626   18    2    5   62  386   12    8  316    8  106    5    4 2223\n",
      " 5244   16  480   66 3785   33    4  130   12   16   38  619    5   25\n",
      "  124   51   36  135   48   25 1415   33    6   22   12  215   28   77\n",
      "   52    5   14  407   16   82    2    8    4  107  117 5952   15  256\n",
      "    4    2    7 3766    5  723   36   71   43  530  476   26  400  317\n",
      "   46    7    4    2 1029   13  104   88    4  381   15  297   98   32\n",
      " 2071   56   26  141    6  194 7486   18    4  226   22   21  134  476\n",
      "   26  480    5  144   30 5535   18   51   36   28  224   92   25  104\n",
      "    4  226   65   16   38 1334   88   12   16  283    5   16 4472  113\n",
      "  103   32   15   16 5345   19  178   32    0    0    0    0    0    0\n",
      "    0    0    0    0    0    0    0    0    0    0    0    0    0    0\n",
      "    0    0    0    0    0    0    0    0    0    0    0    0    0    0\n",
      "    0    0    0    0]\n"
     ]
    }
   ],
   "source": [
    "print(train_data[0])"
   ]
  },
  {
   "cell_type": "code",
   "execution_count": 17,
   "metadata": {},
   "outputs": [
    {
     "name": "stdout",
     "output_type": "stream",
     "text": [
      "Model: \"sequential\"\n",
      "_________________________________________________________________\n",
      "Layer (type)                 Output Shape              Param #   \n",
      "=================================================================\n",
      "embedding (Embedding)        (None, None, 16)          160000    \n",
      "_________________________________________________________________\n",
      "global_average_pooling1d (Gl (None, 16)                0         \n",
      "_________________________________________________________________\n",
      "dense (Dense)                (None, 16)                272       \n",
      "_________________________________________________________________\n",
      "dense_1 (Dense)              (None, 1)                 17        \n",
      "=================================================================\n",
      "Total params: 160,289\n",
      "Trainable params: 160,289\n",
      "Non-trainable params: 0\n",
      "_________________________________________________________________\n"
     ]
    }
   ],
   "source": [
    "# 입력 크기는 영화 리뷰 데이터셋에 적용된 어휘 사전의 크기입니다(10,000개의 단어)\n",
    "vocab_size = 10000\n",
    "\n",
    "model = keras.Sequential()\n",
    "model.add(keras.layers.Embedding(vocab_size, 16, input_shape=(None,)))\n",
    "model.add(keras.layers.GlobalAveragePooling1D())\n",
    "model.add(keras.layers.Dense(16, activation='relu'))\n",
    "model.add(keras.layers.Dense(1, activation='sigmoid'))\n",
    "\n",
    "model.summary()"
   ]
  },
  {
   "cell_type": "code",
   "execution_count": 18,
   "metadata": {},
   "outputs": [],
   "source": [
    "model.compile(optimizer='adam',\n",
    "              loss='binary_crossentropy',\n",
    "              metrics=['accuracy'])"
   ]
  },
  {
   "cell_type": "code",
   "execution_count": 19,
   "metadata": {},
   "outputs": [],
   "source": [
    "x_val = train_data[:10000]\n",
    "partial_x_train = train_data[10000:]\n",
    "\n",
    "y_val = train_labels[:10000]\n",
    "partial_y_train = train_labels[10000:]"
   ]
  },
  {
   "cell_type": "code",
   "execution_count": 20,
   "metadata": {},
   "outputs": [
    {
     "name": "stdout",
     "output_type": "stream",
     "text": [
      "Epoch 1/40\n",
      "30/30 [==============================] - 2s 55ms/step - loss: 0.6925 - accuracy: 0.5464 - val_loss: 0.6900 - val_accuracy: 0.6257\n",
      "Epoch 2/40\n",
      "30/30 [==============================] - 1s 18ms/step - loss: 0.6881 - accuracy: 0.6756 - val_loss: 0.6823 - val_accuracy: 0.7257\n",
      "Epoch 3/40\n",
      "30/30 [==============================] - 1s 18ms/step - loss: 0.6776 - accuracy: 0.7362 - val_loss: 0.6653 - val_accuracy: 0.7325\n",
      "Epoch 4/40\n",
      "30/30 [==============================] - 1s 18ms/step - loss: 0.6558 - accuracy: 0.7669 - val_loss: 0.6363 - val_accuracy: 0.7601\n",
      "Epoch 5/40\n",
      "30/30 [==============================] - 1s 17ms/step - loss: 0.6201 - accuracy: 0.7876 - val_loss: 0.5969 - val_accuracy: 0.7769\n",
      "Epoch 6/40\n",
      "30/30 [==============================] - 1s 18ms/step - loss: 0.5752 - accuracy: 0.8050 - val_loss: 0.5521 - val_accuracy: 0.8037\n",
      "Epoch 7/40\n",
      "30/30 [==============================] - 1s 18ms/step - loss: 0.5231 - accuracy: 0.8300 - val_loss: 0.5066 - val_accuracy: 0.8201\n",
      "Epoch 8/40\n",
      "30/30 [==============================] - 1s 18ms/step - loss: 0.4772 - accuracy: 0.8420 - val_loss: 0.4645 - val_accuracy: 0.8341\n",
      "Epoch 9/40\n",
      "30/30 [==============================] - 1s 17ms/step - loss: 0.4271 - accuracy: 0.8622 - val_loss: 0.4288 - val_accuracy: 0.8455\n",
      "Epoch 10/40\n",
      "30/30 [==============================] - 1s 18ms/step - loss: 0.3917 - accuracy: 0.8727 - val_loss: 0.3995 - val_accuracy: 0.8527\n",
      "Epoch 11/40\n",
      "30/30 [==============================] - 1s 18ms/step - loss: 0.3576 - accuracy: 0.8810 - val_loss: 0.3766 - val_accuracy: 0.8576\n",
      "Epoch 12/40\n",
      "30/30 [==============================] - 1s 17ms/step - loss: 0.3320 - accuracy: 0.8898 - val_loss: 0.3575 - val_accuracy: 0.8650\n",
      "Epoch 13/40\n",
      "30/30 [==============================] - 1s 17ms/step - loss: 0.3055 - accuracy: 0.8972 - val_loss: 0.3427 - val_accuracy: 0.8688\n",
      "Epoch 14/40\n",
      "30/30 [==============================] - 1s 17ms/step - loss: 0.2916 - accuracy: 0.8979 - val_loss: 0.3311 - val_accuracy: 0.8706\n",
      "Epoch 15/40\n",
      "30/30 [==============================] - 1s 18ms/step - loss: 0.2700 - accuracy: 0.9071 - val_loss: 0.3207 - val_accuracy: 0.8761\n",
      "Epoch 16/40\n",
      "30/30 [==============================] - 1s 17ms/step - loss: 0.2558 - accuracy: 0.9126 - val_loss: 0.3143 - val_accuracy: 0.8757\n",
      "Epoch 17/40\n",
      "30/30 [==============================] - 1s 18ms/step - loss: 0.2396 - accuracy: 0.9169 - val_loss: 0.3066 - val_accuracy: 0.8776\n",
      "Epoch 18/40\n",
      "30/30 [==============================] - 1s 18ms/step - loss: 0.2272 - accuracy: 0.9240 - val_loss: 0.3014 - val_accuracy: 0.8807\n",
      "Epoch 19/40\n",
      "30/30 [==============================] - 1s 17ms/step - loss: 0.2146 - accuracy: 0.9265 - val_loss: 0.2967 - val_accuracy: 0.8825\n",
      "Epoch 20/40\n",
      "30/30 [==============================] - 1s 18ms/step - loss: 0.2021 - accuracy: 0.9321 - val_loss: 0.2939 - val_accuracy: 0.8820\n",
      "Epoch 21/40\n",
      "30/30 [==============================] - 1s 17ms/step - loss: 0.2015 - accuracy: 0.9309 - val_loss: 0.2906 - val_accuracy: 0.8841\n",
      "Epoch 22/40\n",
      "30/30 [==============================] - 1s 18ms/step - loss: 0.1906 - accuracy: 0.9352 - val_loss: 0.2885 - val_accuracy: 0.8840\n",
      "Epoch 23/40\n",
      "30/30 [==============================] - 1s 18ms/step - loss: 0.1863 - accuracy: 0.9381 - val_loss: 0.2872 - val_accuracy: 0.8845\n",
      "Epoch 24/40\n",
      "30/30 [==============================] - 1s 18ms/step - loss: 0.1748 - accuracy: 0.9427 - val_loss: 0.2868 - val_accuracy: 0.8835\n",
      "Epoch 25/40\n",
      "30/30 [==============================] - 1s 18ms/step - loss: 0.1667 - accuracy: 0.9450 - val_loss: 0.2855 - val_accuracy: 0.8845\n",
      "Epoch 26/40\n",
      "30/30 [==============================] - 1s 18ms/step - loss: 0.1626 - accuracy: 0.9471 - val_loss: 0.2855 - val_accuracy: 0.8849\n",
      "Epoch 27/40\n",
      "30/30 [==============================] - 1s 18ms/step - loss: 0.1554 - accuracy: 0.9509 - val_loss: 0.2857 - val_accuracy: 0.8860\n",
      "Epoch 28/40\n",
      "30/30 [==============================] - 1s 18ms/step - loss: 0.1467 - accuracy: 0.9551 - val_loss: 0.2879 - val_accuracy: 0.8834\n",
      "Epoch 29/40\n",
      "30/30 [==============================] - 1s 18ms/step - loss: 0.1382 - accuracy: 0.9593 - val_loss: 0.2873 - val_accuracy: 0.8857\n",
      "Epoch 30/40\n",
      "30/30 [==============================] - 1s 18ms/step - loss: 0.1344 - accuracy: 0.9595 - val_loss: 0.2896 - val_accuracy: 0.8852\n",
      "Epoch 31/40\n",
      "30/30 [==============================] - 1s 18ms/step - loss: 0.1323 - accuracy: 0.9599 - val_loss: 0.2902 - val_accuracy: 0.8848\n",
      "Epoch 32/40\n",
      "30/30 [==============================] - 1s 18ms/step - loss: 0.1242 - accuracy: 0.9648 - val_loss: 0.2921 - val_accuracy: 0.8850\n",
      "Epoch 33/40\n",
      "30/30 [==============================] - 1s 18ms/step - loss: 0.1181 - accuracy: 0.9665 - val_loss: 0.2950 - val_accuracy: 0.8837\n",
      "Epoch 34/40\n",
      "30/30 [==============================] - 1s 17ms/step - loss: 0.1167 - accuracy: 0.9673 - val_loss: 0.2985 - val_accuracy: 0.8831\n",
      "Epoch 35/40\n",
      "30/30 [==============================] - 1s 18ms/step - loss: 0.1098 - accuracy: 0.9685 - val_loss: 0.2990 - val_accuracy: 0.8845\n",
      "Epoch 36/40\n",
      "30/30 [==============================] - 1s 18ms/step - loss: 0.1045 - accuracy: 0.9723 - val_loss: 0.3010 - val_accuracy: 0.8842\n",
      "Epoch 37/40\n",
      "30/30 [==============================] - 1s 18ms/step - loss: 0.1033 - accuracy: 0.9712 - val_loss: 0.3042 - val_accuracy: 0.8824\n",
      "Epoch 38/40\n",
      "30/30 [==============================] - 1s 21ms/step - loss: 0.0966 - accuracy: 0.9749 - val_loss: 0.3077 - val_accuracy: 0.8837\n",
      "Epoch 39/40\n",
      "30/30 [==============================] - 1s 18ms/step - loss: 0.0945 - accuracy: 0.9751 - val_loss: 0.3100 - val_accuracy: 0.8821\n",
      "Epoch 40/40\n",
      "30/30 [==============================] - 1s 18ms/step - loss: 0.0907 - accuracy: 0.9773 - val_loss: 0.3144 - val_accuracy: 0.8825\n"
     ]
    }
   ],
   "source": [
    "history = model.fit(partial_x_train,\n",
    "                    partial_y_train,\n",
    "                    epochs=40,\n",
    "                    batch_size=512,\n",
    "                    validation_data=(x_val, y_val),\n",
    "                    verbose=1)"
   ]
  },
  {
   "cell_type": "code",
   "execution_count": 21,
   "metadata": {},
   "outputs": [
    {
     "name": "stdout",
     "output_type": "stream",
     "text": [
      "782/782 - 0s - loss: 0.3340 - accuracy: 0.8720\n",
      "[0.3339596092700958, 0.8720399737358093]\n"
     ]
    }
   ],
   "source": [
    "results = model.evaluate(test_data,  test_labels, verbose=2)\n",
    "\n",
    "print(results)"
   ]
  },
  {
   "cell_type": "code",
   "execution_count": 22,
   "metadata": {},
   "outputs": [
    {
     "data": {
      "text/plain": [
       "dict_keys(['loss', 'accuracy', 'val_loss', 'val_accuracy'])"
      ]
     },
     "execution_count": 22,
     "metadata": {},
     "output_type": "execute_result"
    }
   ],
   "source": [
    "history_dict = history.history\n",
    "history_dict.keys()"
   ]
  },
  {
   "cell_type": "code",
   "execution_count": 23,
   "metadata": {},
   "outputs": [
    {
     "data": {
      "image/png": "[encoded data removed]",
      "text/plain": [
       "<Figure size 432x288 with 1 Axes>"
      ]
     },
     "metadata": {
      "needs_background": "light"
     },
     "output_type": "display_data"
    }
   ],
   "source": [
    "import matplotlib.pyplot as plt\n",
    "\n",
    "acc = history_dict['accuracy']\n",
    "val_acc = history_dict['val_accuracy']\n",
    "loss = history_dict['loss']\n",
    "val_loss = history_dict['val_loss']\n",
    "\n",
    "epochs = range(1, len(acc) + 1)\n",
    "\n",
    "# \"bo\"는 \"파란색 점\"입니다\n",
    "plt.plot(epochs, loss, 'bo', label='Training loss')\n",
    "# b는 \"파란 실선\"입니다\n",
    "plt.plot(epochs, val_loss, 'b', label='Validation loss')\n",
    "plt.title('Training and validation loss')\n",
    "plt.xlabel('Epochs')\n",
    "plt.ylabel('Loss')\n",
    "plt.legend()\n",
    "\n",
    "plt.show()"
   ]
  },
  {
   "cell_type": "code",
   "execution_count": 24,
   "metadata": {},
   "outputs": [
    {
     "data": {
      "image/png": "[encoded data removed]",
      "text/plain": [
       "<Figure size 432x288 with 1 Axes>"
      ]
     },
     "metadata": {
      "needs_background": "light"
     },
     "output_type": "display_data"
    }
   ],
   "source": [
    "plt.clf()   # 그림을 초기화합니다\n",
    "\n",
    "plt.plot(epochs, acc, 'bo', label='Training acc')\n",
    "plt.plot(epochs, val_acc, 'b', label='Validation acc')\n",
    "plt.title('Training and validation accuracy')\n",
    "plt.xlabel('Epochs')\n",
    "plt.ylabel('Accuracy')\n",
    "plt.legend()\n",
    "\n",
    "plt.show()"
   ]
  },
  {
   "cell_type": "code",
   "execution_count": null,
   "metadata": {},
   "outputs": [],
   "source": []
  }
 ],
 "metadata": {
  "kernelspec": {
   "display_name": "Python 3",
   "language": "python",
   "name": "python3"
  },
  "language_info": {
   "codemirror_mode": {
    "name": "ipython",
    "version": 3
   },
   "file_extension": ".py",
   "mimetype": "text/x-python",
   "name": "python",
   "nbconvert_exporter": "python",
   "pygments_lexer": "ipython3",
   "version": "3.6.8"
  }
 },
 "nbformat": 4,
 "nbformat_minor": 4
}
